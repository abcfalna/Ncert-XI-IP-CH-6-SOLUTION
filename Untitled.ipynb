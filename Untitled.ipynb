{
 "cells": [
  {
   "cell_type": "code",
   "execution_count": null,
   "id": "18a047f9",
   "metadata": {},
   "outputs": [],
   "source": [
    "# splitting array\n",
    "#1-D array\n",
    "import numpy as np\n",
    "arr1d=np.array([1,2,3,4,5,6,7,8,9,10])\n",
    "print('1-D array elements are',arr1d)\n",
    "newarr2 = np.array_split(arr1d, 2)\n",
    "print('splitted by 2 is',newarr2)\n",
    "newarr3 = np.array_split(arr1d, 3)\n",
    "print('splitted by 3 is',newarr3)\n",
    "newarr4 = np.array_split(arr1d, 4)\n",
    "print('splitted by 4 is',newarr4)\n",
    "newarr5 = np.array_split(arr1d, 5)\n",
    "print('splitted by 5 is',newarr5)\n",
    "newarr6 = np.array_split(arr1d, 6)\n",
    "print('splitted by 6 is',newarr6)"
   ]
  },
  {
   "cell_type": "code",
   "execution_count": 46,
   "id": "3b9eb519",
   "metadata": {},
   "outputs": [
    {
     "name": "stdout",
     "output_type": "stream",
     "text": [
      "1-D array elements are [[1 2 3]\n",
      " [4 5 6]\n",
      " [7 8 9]]\n"
     ]
    }
   ],
   "source": [
    "#2-D array\n",
    "import numpy as np\n",
    "arr2d=np.array([[1,2,3],[4,5,6],[7,8,9]])\n",
    "print('1-D array elements are',arr2d)\n",
    "newarr2 = np.array_split(arr1d, [2,5])\n"
   ]
  },
  {
   "cell_type": "code",
   "execution_count": 44,
   "id": "9561d31a",
   "metadata": {},
   "outputs": [
    {
     "name": "stdout",
     "output_type": "stream",
     "text": [
      "1-D array [ 1  2  3  4  5  6  7  8  9 10]\n",
      "maximum element in 1d array 10\n",
      "minimum element in 1d array 1\n",
      "2-D array\n",
      " [[1 2 3]\n",
      " [4 5 6]\n",
      " [7 8 9]]\n",
      "minimum element in 1d array 9\n",
      "maximum element in 1d array [3 6 9]\n",
      "minimum element in 1d array 1\n",
      "minimum element in 1d array [1 2 3]\n"
     ]
    }
   ],
   "source": [
    "#finding min and maximum element in array\n",
    "#1 -D array\n",
    "import numpy as np\n",
    "arr1d=np.array([1,2,3,4,5,6,7,8,9,10])\n",
    "print('1-D array',arr1d)\n",
    "#Maximum\n",
    "print ('maximum element in 1d array',arr1d.max())\n",
    "#minimum\n",
    "print('minimum element in 1d array',arr1d.min())\n",
    "#2-D array\n",
    "arr2d=np.array([[1,2,3],[4,5,6],[7,8,9]])\n",
    "print('2-D array\\n',arr2d)\n",
    "#Maximum\n",
    "print('minimum element in 1d array',arr2d.max())\n",
    "# if axis=1, it gives column wise maximum\n",
    "print ('maximum element in 1d array',arr2d.max(axis=1))\n",
    "#minimum\n",
    "print('minimum element in 1d array',arr2d.min())\n",
    "# if axis=0, it gives row wise maximums\n",
    "print('minimum element in 1d array',arr2d.min(axis=0))\n",
    "\n"
   ]
  }
 ],
 "metadata": {
  "kernelspec": {
   "display_name": "Python 3",
   "language": "python",
   "name": "python3"
  },
  "language_info": {
   "codemirror_mode": {
    "name": "ipython",
    "version": 3
   },
   "file_extension": ".py",
   "mimetype": "text/x-python",
   "name": "python",
   "nbconvert_exporter": "python",
   "pygments_lexer": "ipython3",
   "version": "3.7.0"
  }
 },
 "nbformat": 4,
 "nbformat_minor": 5
}
